{
 "cells": [
  {
   "cell_type": "code",
   "execution_count": 4,
   "metadata": {},
   "outputs": [],
   "source": [
    "from openai import OpenAI\n",
    "from dotenv import load_dotenv\n",
    "import os\n",
    "import pandas as pd \n",
    "import torch\n",
    "load_dotenv()\n",
    "\n",
    "openai_key = os.getenv('OPENAI_KEY')\n",
    "client = OpenAI(api_key=openai_key)\n"
   ]
  },
  {
   "cell_type": "code",
   "execution_count": 5,
   "metadata": {},
   "outputs": [],
   "source": [
    "submissions = pd.read_json('output/filtered_and_balanced.json.gz' , compression='gzip')\n",
    "\n",
    "\n",
    "def get_embedding(text, model=\"text-embedding-3-small\"): # Code snippet from https://platform.openai.com/docs/guides/embeddings/use-cases\n",
    "   text = text.replace(\"\\n\", \" \")\n",
    "   return torch.tensor(client.embeddings.create(input = [text], model=model).data[0].embedding)\n",
    "submissions['embedding'] =  submissions['selftext'].apply(lambda x: get_embedding(x, model='text-embedding-3-large'))\n",
    "\n",
    "submissions.to_pickle('output/openai_embedded_large.pkl')\n"
   ]
  }
 ],
 "metadata": {
  "kernelspec": {
   "display_name": "myenv",
   "language": "python",
   "name": "python3"
  },
  "language_info": {
   "codemirror_mode": {
    "name": "ipython",
    "version": 3
   },
   "file_extension": ".py",
   "mimetype": "text/x-python",
   "name": "python",
   "nbconvert_exporter": "python",
   "pygments_lexer": "ipython3",
   "version": "3.11.7"
  }
 },
 "nbformat": 4,
 "nbformat_minor": 2
}
