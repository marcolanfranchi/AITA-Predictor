{
 "cells": [
  {
   "cell_type": "code",
   "execution_count": 2,
   "metadata": {},
   "outputs": [],
   "source": [
    "import pandas as pd\n",
    "from sklearn.preprocessing import LabelEncoder\n",
    "from sklearn.model_selection import train_test_split\n",
    "from sklearn.neural_network import MLPClassifier\n",
    "from sklearn.metrics import classification_report, accuracy_score\n",
    "import numpy as np\n",
    "from sklearn.cluster import KMeans\n"
   ]
  },
  {
   "cell_type": "code",
   "execution_count": 3,
   "metadata": {},
   "outputs": [],
   "source": [
    "\n",
    "# Load the DataFrame from the pickle file\n",
    "submissions = pd.read_pickle('output/openai_embedded_large.pkl')"
   ]
  },
  {
   "cell_type": "code",
   "execution_count": 4,
   "metadata": {},
   "outputs": [],
   "source": [
    "\n",
    "# Preprocess the labels\n",
    "label_encoder = LabelEncoder()\n",
    "\n",
    "submissions['link_flair_text'] = label_encoder.fit_transform(submissions['link_flair_text'])\n",
    "num_classes = len(label_encoder.classes_)\n"
   ]
  },
  {
   "cell_type": "code",
   "execution_count": 9,
   "metadata": {},
   "outputs": [
    {
     "data": {
      "text/plain": [
       "array([tensor([-0.0019, -0.0268, -0.0179,  ..., -0.0029, -0.0004,  0.0003]),\n",
       "       tensor([ 0.0406, -0.0353, -0.0050,  ...,  0.0021, -0.0230, -0.0169]),\n",
       "       tensor([-0.0059, -0.0053, -0.0058,  ...,  0.0003,  0.0078, -0.0062]),\n",
       "       ...,\n",
       "       tensor([ 3.9292e-02, -5.6507e-02, -1.3491e-02,  ..., -9.5682e-05,\n",
       "                1.0389e-02,  1.0522e-02])                               ,\n",
       "       tensor([-0.0361,  0.0064, -0.0077,  ..., -0.0166, -0.0454, -0.0109]),\n",
       "       tensor([ 0.0299,  0.0148, -0.0077,  ...,  0.0020, -0.0178, -0.0084])],\n",
       "      dtype=object)"
      ]
     },
     "execution_count": 9,
     "metadata": {},
     "output_type": "execute_result"
    }
   ],
   "source": [
    "\n",
    "# Convert the embeddings and labels lists\n",
    "X = submissions['embedding'].values\n",
    "y = submissions['link_flair_text'].values\n",
    "\n",
    "# Split the data into training and testing sets\n",
    "X_train, X_test, y_train, y_test = train_test_split(X, y, test_size=0.2,)\n",
    "\n",
    "\n",
    "X"
   ]
  },
  {
   "cell_type": "code",
   "execution_count": 14,
   "metadata": {},
   "outputs": [],
   "source": [
    "# Define the neural network\n",
    "\n",
    "# Define the pipeline\n",
    "matrix = np.vstack(submissions['embedding'].values)\n",
    "n_clusters = 2\n",
    "\n",
    "kmeans = KMeans(n_clusters = n_clusters, random_state=42)\n",
    "kmeans.fit(matrix)\n",
    "submissions['cluster'] = kmeans.labels_ # from https://platform.openai.com/docs/guides/embeddings/use-cases"
   ]
  },
  {
   "cell_type": "code",
   "execution_count": 19,
   "metadata": {},
   "outputs": [
    {
     "name": "stdout",
     "output_type": "stream",
     "text": [
      "accuracy : 44.92%\n"
     ]
    }
   ],
   "source": [
    "print(f'accuracy : {len(submissions[submissions['cluster'] == submissions['link_flair_text']])/len(submissions)*100:.2f}%')"
   ]
  },
  {
   "cell_type": "code",
   "execution_count": null,
   "metadata": {},
   "outputs": [],
   "source": []
  }
 ],
 "metadata": {
  "kernelspec": {
   "display_name": "myenv",
   "language": "python",
   "name": "python3"
  },
  "language_info": {
   "codemirror_mode": {
    "name": "ipython",
    "version": 3
   },
   "file_extension": ".py",
   "mimetype": "text/x-python",
   "name": "python",
   "nbconvert_exporter": "python",
   "pygments_lexer": "ipython3",
   "version": "3.12.1"
  }
 },
 "nbformat": 4,
 "nbformat_minor": 2
}
