{
 "cells": [
  {
   "cell_type": "code",
   "execution_count": 7,
   "metadata": {},
   "outputs": [],
   "source": [
    "import pandas as pd \n",
    "import os\n"
   ]
  },
  {
   "cell_type": "code",
   "execution_count": 5,
   "metadata": {},
   "outputs": [],
   "source": [
    "def load_all_json_gz_to_dataframe(directory): #TODO: do it in spark \n",
    "    all_data = pd.DataFrame()\n",
    "    for filename in os.listdir(directory):\n",
    "        if filename.endswith(\".json.gz\"):\n",
    "            file_path = os.path.join(directory, filename)\n",
    "            df = pd.read_json(file_path, compression='gzip', lines=True)\n",
    "            filtered_df = df[(df['selftext'] != '[removed]') & \n",
    "                            (df['selftext'] != '[deleted]') &\n",
    "                            (df['num_comments'].astype(int) > 10) & \n",
    "                            ((df['link_flair_text'] == 'Asshole') | (df['link_flair_text'] == 'Not the A-hole')) & \n",
    "                            (df['num_comments'] > 10)\n",
    "                            ]\n",
    "            # alot of the posts have their data removed\n",
    "            all_data = pd.concat([all_data, filtered_df], ignore_index=True)\n",
    "\n",
    "    return all_data\n",
    "directory_path = 'reddit-subset/submissions'\n",
    "df = load_all_json_gz_to_dataframe(directory_path)"
   ]
  },
  {
   "cell_type": "code",
   "execution_count": 6,
   "metadata": {},
   "outputs": [],
   "source": [
    "# Separate the groups\n",
    "asshole_group = df[df['link_flair_text'] == 'Asshole']\n",
    "not_asshole_group = df[df['link_flair_text'] == 'Not the A-hole']\n",
    "\n",
    "# Size of the smaller group\n",
    "asshole_size = len(asshole_group)\n",
    "\n",
    "# Randomly sample from the larger group to match the size of the smaller group\n",
    "sampled_not_asshole = not_asshole_group.sample(n=asshole_size)\n",
    "\n",
    "# Combine the samples with the smaller group\n",
    "balanced_sample = pd.concat([asshole_group, sampled_not_asshole])\n",
    "\n",
    "\n",
    "# balanced_sample['selftext'] = balanced_sample['selftext'].apply(lambda x: x.encode().decode('unicode-escape'))\n",
    "balanced_sample.to_json('output/filtered_and_balanced_submissions.json')\n"
   ]
  }
 ],
 "metadata": {
  "kernelspec": {
   "display_name": "myenv",
   "language": "python",
   "name": "python3"
  },
  "language_info": {
   "codemirror_mode": {
    "name": "ipython",
    "version": 3
   },
   "file_extension": ".py",
   "mimetype": "text/x-python",
   "name": "python",
   "nbconvert_exporter": "python",
   "pygments_lexer": "ipython3",
   "version": "3.12.1"
  }
 },
 "nbformat": 4,
 "nbformat_minor": 2
}
