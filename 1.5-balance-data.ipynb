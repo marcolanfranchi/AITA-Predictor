{
 "cells": [
  {
   "cell_type": "code",
   "execution_count": 3,
   "metadata": {},
   "outputs": [],
   "source": [
    "import pandas as pd "
   ]
  },
  {
   "cell_type": "code",
   "execution_count": 11,
   "metadata": {},
   "outputs": [],
   "source": [
    "df = pd.read_json('output/filtered_not_balanced.json.gz'  , compression='gzip')"
   ]
  },
  {
   "cell_type": "code",
   "execution_count": 12,
   "metadata": {},
   "outputs": [],
   "source": [
    "# Separate the groups\n",
    "asshole_group = df[df['link_flair_text'] == 'Asshole']\n",
    "not_asshole_group = df[df['link_flair_text'] == 'Not the A-hole']\n",
    "\n",
    "# Size of the smaller group\n",
    "asshole_size = len(asshole_group) # we know asshole group is smaller \n",
    "\n",
    "# Randomly sample from the larger group to match the size of the smaller group\n",
    "sampled_not_asshole = not_asshole_group.sample(n=asshole_size)\n",
    "\n",
    "# Combine the samples with the smaller group\n",
    "balanced_sample = pd.concat([asshole_group, sampled_not_asshole])\n",
    "\n",
    "balanced_sample.to_json('output/filtered_and_balanced.json.gz' , compression='gzip')"
   ]
  }
 ],
 "metadata": {
  "kernelspec": {
   "display_name": "myenv",
   "language": "python",
   "name": "python3"
  },
  "language_info": {
   "codemirror_mode": {
    "name": "ipython",
    "version": 3
   },
   "file_extension": ".py",
   "mimetype": "text/x-python",
   "name": "python",
   "nbconvert_exporter": "python",
   "pygments_lexer": "ipython3",
   "version": "3.12.3"
  }
 },
 "nbformat": 4,
 "nbformat_minor": 2
}
