{
 "cells": [
  {
   "cell_type": "code",
   "execution_count": 1,
   "metadata": {},
   "outputs": [
    {
     "name": "stderr",
     "output_type": "stream",
     "text": [
      "c:\\Users\\nima_\\Documents\\CompSci\\CMPT 353\\project\\myenv\\Lib\\site-packages\\sentence_transformers\\cross_encoder\\CrossEncoder.py:11: TqdmWarning: IProgress not found. Please update jupyter and ipywidgets. See https://ipywidgets.readthedocs.io/en/stable/user_install.html\n",
      "  from tqdm.autonotebook import tqdm, trange\n",
      "c:\\Users\\nima_\\Documents\\CompSci\\CMPT 353\\project\\myenv\\Lib\\site-packages\\huggingface_hub\\file_download.py:157: UserWarning: `huggingface_hub` cache-system uses symlinks by default to efficiently store duplicated files but your machine does not support them in C:\\Users\\nima_\\.cache\\huggingface\\hub\\models--sentence-transformers--all-mpnet-base-v2. Caching files will still work but in a degraded version that might require more space on your disk. This warning can be disabled by setting the `HF_HUB_DISABLE_SYMLINKS_WARNING` environment variable. For more details, see https://huggingface.co/docs/huggingface_hub/how-to-cache#limitations.\n",
      "To support symlinks on Windows, you either need to activate Developer Mode or to run Python as an administrator. In order to see activate developer mode, see this article: https://docs.microsoft.com/en-us/windows/apps/get-started/enable-your-device-for-development\n",
      "  warnings.warn(message)\n"
     ]
    }
   ],
   "source": [
    "from sentence_transformers import SentenceTransformer , util\n",
    "import torch\n",
    "import numpy as np\n",
    "import pandas as pd\n",
    "model = SentenceTransformer('sentence-transformers/all-mpnet-base-v2') # sentence transormer\n",
    "import spacy\n",
    "# Download necessary nltk data\n",
    "nlp = spacy.load('en_core_web_sm') # Spacy model that we use to partition sentences \n"
   ]
  },
  {
   "cell_type": "code",
   "execution_count": 2,
   "metadata": {},
   "outputs": [],
   "source": [
    "# Check if GPU is available and set the device\n",
    "device = torch.device('cuda' if torch.cuda.is_available() else 'cpu')\n",
    "model = model.to(device)"
   ]
  },
  {
   "cell_type": "code",
   "execution_count": 28,
   "metadata": {},
   "outputs": [],
   "source": [
    "# Function to chunk sentences and generate embeddings\n",
    "def process_text(text):\n",
    "    doc = nlp(text)\n",
    "    sentences = [sent.text for sent in doc.sents]\n",
    "    # Move sentences to device\n",
    "    chunk_embeddings = model.encode(sentences, convert_to_tensor=True, device=device)\n",
    "    story_embedding = torch.mean(chunk_embeddings, dim=0)\n",
    "    return story_embedding.cpu()  # Move tensor back to CPU before returning\n",
    "\n",
    "# Load the DataFrame from a JSON file\n",
    "submissions = pd.read_json('output/filtered_and_balanced_submissions.json')\n",
    "# Separate the DataFrame into the two categories\n",
    "asshole_df = submissions[submissions['link_flair_text'] == 'Asshole']\n",
    "not_asshole_df = submissions[submissions['link_flair_text'] == 'Not the A-hole']\n",
    "\n",
    "# Determine the smaller of the two categories for balanced sampling\n",
    "sample_size = min(len(asshole_df), len(not_asshole_df), 1000)  # do not exceed 1000 samples per class\n",
    "\n",
    "# Sample from each category\n",
    "asshole_sample = asshole_df.sample(sample_size).reset_index(drop=True)\n",
    "not_asshole_sample = not_asshole_df.sample(sample_size).reset_index(drop=True)\n",
    "\n",
    "# Combine the samples into a new DataFrame\n",
    "balanced_sample = pd.concat([asshole_sample, not_asshole_sample]).reset_index(drop=True)\n",
    "# Apply the function to each row, storing the result in a new column\n",
    "balanced_sample['embedding'] = balanced_sample['selftext'].apply(process_text)\n",
    "\n",
    "# sampled_submissions = submissions.sample(2000).reset_index(drop=True)\n",
    "# sampled_submissions['embedding'] = balanced_sample['selftext'].apply(process_text)\n",
    "\n",
    "# submissions['embedding'] = submissions['selftext'].sample(5).reset_index(drop=True).apply(process_text)\n",
    "# Save the DataFrame as a pickle file\n",
    "# submissions.to_pickle('submissions_with_embeddings.pkl')\n",
    "balanced_sample.to_pickle('output/submissions_with_embeddings.pkl')\n",
    "# print(\"DataFrame saved to submissions_with_embeddings.pkl\")"
   ]
  },
  {
   "cell_type": "code",
   "execution_count": 29,
   "metadata": {},
   "outputs": [
    {
     "data": {
      "text/plain": [
       "0       [tensor(0.0115), tensor(0.0421), tensor(-0.007...\n",
       "1       [tensor(-0.0015), tensor(0.0372), tensor(-0.01...\n",
       "2       [tensor(-0.0172), tensor(0.0516), tensor(-0.00...\n",
       "3       [tensor(-0.0042), tensor(0.0340), tensor(-0.03...\n",
       "4       [tensor(0.0022), tensor(0.0310), tensor(-0.013...\n",
       "                              ...                        \n",
       "1995    [tensor(0.0055), tensor(4.9448e-05), tensor(-0...\n",
       "1996    [tensor(0.0150), tensor(0.0203), tensor(-0.019...\n",
       "1997    [tensor(0.0022), tensor(0.0120), tensor(0.0018...\n",
       "1998    [tensor(-0.0118), tensor(0.0315), tensor(-0.00...\n",
       "1999    [tensor(-0.0123), tensor(0.0457), tensor(-0.00...\n",
       "Name: embedding, Length: 2000, dtype: object"
      ]
     },
     "execution_count": 29,
     "metadata": {},
     "output_type": "execute_result"
    }
   ],
   "source": [
    "balanced_sample['embedding'] \n",
    "# sampled_submissions.to_pickle('submissions_with_embeddings.pkl')\n"
   ]
  },
  {
   "cell_type": "code",
   "execution_count": null,
   "metadata": {},
   "outputs": [],
   "source": []
  },
  {
   "cell_type": "code",
   "execution_count": null,
   "metadata": {},
   "outputs": [],
   "source": []
  }
 ],
 "metadata": {
  "kernelspec": {
   "display_name": "Python 3",
   "language": "python",
   "name": "python3"
  },
  "language_info": {
   "codemirror_mode": {
    "name": "ipython",
    "version": 3
   },
   "file_extension": ".py",
   "mimetype": "text/x-python",
   "name": "python",
   "nbconvert_exporter": "python",
   "pygments_lexer": "ipython3",
   "version": "3.12.1"
  }
 },
 "nbformat": 4,
 "nbformat_minor": 2
}
