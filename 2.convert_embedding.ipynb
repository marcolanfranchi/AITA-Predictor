{
 "cells": [
  {
   "cell_type": "code",
   "execution_count": 5,
   "metadata": {},
   "outputs": [],
   "source": [
    "from sentence_transformers import SentenceTransformer , util\n",
    "import torch\n",
    "import numpy as np\n",
    "import pandas as pd\n",
    "model = SentenceTransformer('paraphrase-MiniLM-L6-v2') # sentence transormer\n",
    "import spacy\n",
    "nlp = spacy.load('en_core_web_sm') # Spacy model that we use to partition sentences \n"
   ]
  },
  {
   "cell_type": "code",
   "execution_count": 6,
   "metadata": {},
   "outputs": [],
   "source": [
    "# Set device to gpu if available\n",
    "device = torch.device('cuda' if torch.cuda.is_available() else 'cpu')\n",
    "model = model.to(device)"
   ]
  },
  {
   "cell_type": "code",
   "execution_count": 7,
   "metadata": {},
   "outputs": [],
   "source": [
    "# Function to chunk sentences and generate embeddings\n",
    "def process_text(text):\n",
    "    doc = nlp(text)\n",
    "    sentences = [sent.text for sent in doc.sents]\n",
    "    # Move sentences to device\n",
    "    chunk_embeddings = model.encode(sentences, convert_to_tensor=True, device=device) # move to gpu for quicker generation \n",
    "    story_embedding = torch.mean(chunk_embeddings, dim=0)\n",
    "    return story_embedding.cpu()  # Move tensor back to CPU before returning | we need to do this in case we wanna use numpy arrays in the future\n",
    "\n",
    "submissions = pd.read_json('output/filtered_and_balanced_submissions.json')\n",
    "submissions['embedding'] = submissions['selftext'].apply(process_text)\n",
    "\n",
    "submissions.to_pickle('output/paraphrase_mini_l6_embedded_averaged.pkl')\n"
   ]
  }
 ],
 "metadata": {
  "kernelspec": {
   "display_name": "Python 3",
   "language": "python",
   "name": "python3"
  },
  "language_info": {
   "codemirror_mode": {
    "name": "ipython",
    "version": 3
   },
   "file_extension": ".py",
   "mimetype": "text/x-python",
   "name": "python",
   "nbconvert_exporter": "python",
   "pygments_lexer": "ipython3",
   "version": "3.12.1"
  }
 },
 "nbformat": 4,
 "nbformat_minor": 2
}
